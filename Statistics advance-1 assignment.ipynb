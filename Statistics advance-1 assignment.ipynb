{
 "cells": [
  {
   "cell_type": "markdown",
   "id": "f9edf294",
   "metadata": {},
   "source": [
    "### Question 1: What is a random variable in probability theory?\n",
    "\n",
    "A random variable is a function that assigns numerical values to the outcomes of a random experiment. It provides a way to quantify uncertainty by mapping each outcome of a probability space to a real number. Random variables can be discrete or continuous depending on the type of outcomes they represent."
   ]
  },
  {
   "cell_type": "markdown",
   "id": "41bd65f0",
   "metadata": {},
   "source": [
    "### Question 2: What are the types of random variables?\n",
    "\n",
    "Random variables are classified into two main types:\n",
    "1. **Discrete Random Variables** – Take on countable values (e.g., number of heads in 10 coin tosses).\n",
    "2. **Continuous Random Variables** – Take on values from an interval of real numbers, usually measured (e.g., height, weight, temperature)."
   ]
  },
  {
   "cell_type": "markdown",
   "id": "99b818e6",
   "metadata": {},
   "source": [
    "### Question 3: Explain the difference between discrete and continuous distributions.\n",
    "\n",
    "- **Discrete Distribution** describes the probability of a random variable that takes on distinct values. Probabilities are assigned to each possible outcome, and the sum of probabilities equals 1. Example: Binomial distribution.\n",
    "- **Continuous Distribution** describes the probability of a random variable that can take any value within a range. Probabilities are represented by areas under a probability density function (PDF). Example: Normal distribution."
   ]
  },
  {
   "cell_type": "markdown",
   "id": "7208c49c",
   "metadata": {},
   "source": [
    "### Question 4: What is a binomial distribution, and how is it used in probability?\n",
    "\n",
    "The **binomial distribution** models the number of successes in a fixed number of independent Bernoulli trials, each with the same probability of success $p$. It is used to calculate probabilities in scenarios such as coin tosses, quality control, or survey responses. Formula:\n",
    "\\[ P(X=k) = \\binom{n}{k} p^k (1-p)^{n-k} \\]"
   ]
  },
  {
   "cell_type": "markdown",
   "id": "2d04dd0a",
   "metadata": {},
   "source": [
    "### Question 5: What is the standard normal distribution, and why is it important?\n",
    "\n",
    "The **standard normal distribution** is a normal distribution with mean $\\mu = 0$ and standard deviation $\\sigma = 1$. It is important because:\n",
    "- It provides a reference for calculating probabilities and z-scores.\n",
    "- Many statistical tests and confidence intervals are based on standard normal assumptions.\n",
    "- It allows comparison of data from different distributions by standardization."
   ]
  },
  {
   "cell_type": "markdown",
   "id": "1238f76c",
   "metadata": {},
   "source": [
    "### Question 6: What is the Central Limit Theorem (CLT), and why is it critical in statistics?\n",
    "\n",
    "The **Central Limit Theorem** states that the distribution of sample means approaches a normal distribution as the sample size increases, regardless of the population’s distribution (if the population has finite variance).\n",
    "\n",
    "It is critical because:\n",
    "- It justifies using normal approximations in hypothesis testing and confidence intervals.\n",
    "- It enables valid inference even when the population distribution is unknown."
   ]
  },
  {
   "cell_type": "markdown",
   "id": "44d3cac2",
   "metadata": {},
   "source": [
    "### Question 7: What is the significance of confidence intervals in statistical analysis?\n",
    "\n",
    "A **confidence interval (CI)** provides a range of values within which the true population parameter is expected to fall with a certain level of confidence (e.g., 95%).\n",
    "\n",
    "Significance:\n",
    "- It quantifies uncertainty in parameter estimates.\n",
    "- It is more informative than a single point estimate.\n",
    "- It guides decision-making by indicating the precision of estimates."
   ]
  },
  {
   "cell_type": "markdown",
   "id": "3ef3e61a",
   "metadata": {},
   "source": [
    "### Question 8: What is the concept of expected value in a probability distribution?\n",
    "\n",
    "The **expected value (mean)** of a random variable is the long-run average value obtained from repeated trials of an experiment.\n",
    "\n",
    "For discrete random variable:\n",
    "\\[ E[X] = \\sum x_i P(x_i) \\]\n",
    "\n",
    "For continuous random variable:\n",
    "\\[ E[X] = \\int_{-\\infty}^{\\infty} x f(x) dx \\]\n",
    "\n",
    "It represents the \"center of gravity\" of the distribution."
   ]
  },
  {
   "cell_type": "markdown",
   "id": "3302a2bb",
   "metadata": {},
   "source": [
    "### Question 9: Write a Python program to generate 1000 random numbers from a normal distribution with mean = 50 and standard deviation = 5. Compute its mean and standard deviation using NumPy, and draw a histogram to visualize the distribution.\n"
   ]
  },
  {
   "cell_type": "code",
   "execution_count": 1,
   "id": "e2900900",
   "metadata": {},
   "outputs": [
    {
     "name": "stdout",
     "output_type": "stream",
     "text": [
      "Mean: 49.71702235247583\n",
      "Standard Deviation: 4.961723727292348\n"
     ]
    },
    {
     "data": {
      "image/png": "[encoded data removed]",
      "text/plain": [
       "<Figure size 640x480 with 1 Axes>"
      ]
     },
     "metadata": {},
     "output_type": "display_data"
    }
   ],
   "source": [
    "import numpy as np\n",
    "import matplotlib.pyplot as plt\n",
    "\n",
    "# Generate 1000 random numbers\n",
    "data = np.random.normal(loc=50, scale=5, size=1000)\n",
    "\n",
    "# Compute mean and std\n",
    "mean = np.mean(data)\n",
    "std_dev = np.std(data)\n",
    "\n",
    "print(\"Mean:\", mean)\n",
    "print(\"Standard Deviation:\", std_dev)\n",
    "\n",
    "# Plot histogram\n",
    "plt.hist(data, bins=30, edgecolor='black', alpha=0.7)\n",
    "plt.title(\"Normal Distribution (mean=50, std=5)\")\n",
    "plt.xlabel(\"Value\")\n",
    "plt.ylabel(\"Frequency\")\n",
    "plt.show()"
   ]
  },
  {
   "cell_type": "markdown",
   "id": "a1b9e8ee",
   "metadata": {},
   "source": [
    "### Question 10: You are working as a data analyst for a retail company. The company has collected daily sales data for 2 years and wants you to identify the overall sales trend.\n",
    "\n",
    "**Tasks:**\n",
    "- Explain how you would apply the Central Limit Theorem to estimate the average sales with a 95% confidence interval.\n",
    "- Write the Python code to compute the mean sales and its confidence interval."
   ]
  },
  {
   "cell_type": "code",
   "execution_count": 2,
   "id": "f2fb22c8",
   "metadata": {},
   "outputs": [
    {
     "name": "stdout",
     "output_type": "stream",
     "text": [
      "Mean Sales: 248.25\n",
      "95% Confidence Interval: (np.float64(240.68326838343515), np.float64(255.81673161656485))\n"
     ]
    }
   ],
   "source": [
    "import numpy as np\n",
    "import scipy.stats as st\n",
    "\n",
    "daily_sales = [220, 245, 210, 265, 230, 250, 260, 275, 240, 255,\n",
    "               235, 260, 245, 250, 225, 270, 265, 255, 250, 260]\n",
    "\n",
    "# Mean and standard error\n",
    "mean_sales = np.mean(daily_sales)\n",
    "std_err = np.std(daily_sales, ddof=1) / np.sqrt(len(daily_sales))\n",
    "\n",
    "# 95% confidence interval\n",
    "ci = st.norm.interval(0.95, loc=mean_sales, scale=std_err)\n",
    "\n",
    "print(\"Mean Sales:\", mean_sales)\n",
    "print(\"95% Confidence Interval:\", ci)"
   ]
  },
  {
   "cell_type": "code",
   "execution_count": null,
   "id": "dc3436a5-890e-4034-b1d5-eaafb08da882",
   "metadata": {},
   "outputs": [],
   "source": []
  }
 ],
 "metadata": {
  "kernelspec": {
   "display_name": "Python 3 (ipykernel)",
   "language": "python",
   "name": "python3"
  },
  "language_info": {
   "codemirror_mode": {
    "name": "ipython",
    "version": 3
   },
   "file_extension": ".py",
   "mimetype": "text/x-python",
   "name": "python",
   "nbconvert_exporter": "python",
   "pygments_lexer": "ipython3",
   "version": "3.13.5"
  }
 },
 "nbformat": 4,
 "nbformat_minor": 5
}
